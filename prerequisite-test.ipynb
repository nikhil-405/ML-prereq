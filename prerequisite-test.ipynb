{
 "cells": [
  {
   "attachments": {
    "07e4046c-d86b-4083-9793-48375acdb3ae.png": {
     "image/png": "[encoded data removed]"
    },
    "6ff799ac-f5de-4a5c-a0b7-d97e5d5aecd4.png": {
     "image/png": "[encoded data removed]"
    }
   },
   "cell_type": "markdown",
   "id": "8379c368-703b-4d53-9139-58d11f982f99",
   "metadata": {},
   "source": [
    "## Questions\n",
    "1) How many multiplications and additions do you need to perform a matrix multiplication between a (n, k) and (k, m) matrix? Explain.\n",
    "\n",
    "2) Write Python code to multiply the above two matrices. Solve using list of lists and then use numpy. Compare the timing of both solutions. Which one is faster? Why?\n",
    "\n",
    "3) Finding the highest element in a list requires one pass of the array. Finding the second highest element requires 2 passes of the the array. Using this method, what is the time complexity of finding the median of the array? Can you suggest a better method? Can you implement both these methods in Python and compare against numpy.median routine in terms of time?\n",
    "\n",
    "4) What is the gradient of the following function with respect to x and y?<br>\n",
    "    ![image.png](attachment:07e4046c-d86b-4083-9793-48375acdb3ae.png)\n",
    "\n",
    "   \n",
    "6) Use JAX to confirm the gradient evaluated by your method matches the analytical solution corresponding to a few random values of x and y\n",
    "\n",
    "7) Use sympy to confirm that you obtain the same gradient analytically.\n",
    "\n",
    "8) Create a Python nested dictionary to represent hierarchical information. We want to store record of students and their marks. Something like:\n",
    "\n",
    "2022\n",
    "Branch 1\n",
    "Roll Number: 1, Name: N, Marks:\n",
    "Maths: 100, English: 70 …\n",
    "Branch 2\n",
    "2023\n",
    "Branch 1\n",
    "Branch 2\n",
    "2024\n",
    "Branch 1\n",
    "Branch 2\n",
    "2025\n",
    "Branch 1\n",
    "Branch 2\n",
    "\n",
    "\n",
    "8) Store the same information using Python classes. We have an overall database which is a list of year objects. Each year contains a list of branches. Each branch contains a list of students. Each student has some properties like name, roll number and has marks in some subjects.\n",
    "\n",
    "9) Using matplotlib plot the following functions on the domain: x = 0.5 to 100.0 in steps of 0.5.\n",
    "\n",
    "    ![image.png](attachment:6ff799ac-f5de-4a5c-a0b7-d97e5d5aecd4.png)\n",
    "\n",
    "10) Using numpy generate a matrix of size 20X5 containing random numbers drawn uniformly from the range of 1 to 2. Using Pandas create a dataframe out of this matrix. Name the columns of the dataframe as “a”, “b”, “c”, “d”, “e”. Find the column with the highest standard deviation. Find the row with the lowest mean.\n",
    "\n",
    "11) Add a new column to the dataframe called “f” which is the sum of the columns “a”, “b”, “c”, “d”, “e”. Create another column called “g”. The value in the column “g” should be “LT8” if the value in the column “f” is less than 8 and “GT8” otherwise. Find the number of rows in the dataframe where the value in the column “g” is “LT8”. Find the standard deviation of the column “f” for the rows where the value in the column “g” is “LT8” and “GT8” respectively.\n",
    "\n",
    "12) Write a small piece of code to explain broadcasting in numpy.\n",
    "\n",
    "13) Write a function to compute the argmin of a numpy array. The function should take a numpy array as input and return the index of the minimum element. You can use the np.argmin function to verify your solution."
   ]
  },
  {
   "cell_type": "markdown",
   "id": "0c017196-888f-4f73-8375-fef307f3890e",
   "metadata": {},
   "source": [
    "## Solutions"
   ]
  },
  {
   "cell_type": "code",
   "execution_count": 1,
   "id": "1e814c9a-b3cb-40e3-8bef-8e23c2b9bf2d",
   "metadata": {},
   "outputs": [],
   "source": [
    "# Dependencies\n",
    "import numpy as np\n",
    "import time\n",
    "import matplotlib.pyplot as plt\n",
    "import pandas as pd"
   ]
  },
  {
   "cell_type": "markdown",
   "id": "68ee5c42-edaa-43c4-9947-fa631264cffd",
   "metadata": {},
   "source": [
    "### Question 1"
   ]
  },
  {
   "cell_type": "markdown",
   "id": "798fb88c-fb1d-4197-8366-43ca8ffe5058",
   "metadata": {},
   "source": [
    "To multiply a (n, k) matrix by a (k, m) matrix, we ewill need a total of ```n * m * k``` multiplications and ```n * m * (k-1)``` number of addition operations, <br>\n",
    "The first matrix has n rows and each row has k entries, the second matrix has k rows with each row having m entries, <br>\n",
    "so when we try to multiply the first row of the first matrix, we will have to multiply (k, k) elements to each other and then add them.<br>\n",
    "We will have to repeat this for all m columns of the second matrix for each of the  n rows in the first matrix "
   ]
  },
  {
   "cell_type": "markdown",
   "id": "e57a1d70-27f0-406a-8ac9-0217170ef98b",
   "metadata": {},
   "source": [
    "### Question 2"
   ]
  },
  {
   "cell_type": "code",
   "execution_count": 2,
   "id": "fb53b14d-798e-4008-b8a9-0903f7cf6f10",
   "metadata": {},
   "outputs": [],
   "source": [
    "# Increase the dimensions of metrix to get noticable difference in time\n",
    "n = 10\n",
    "k = 50\n",
    "m = 60\n",
    "\n",
    "# Initializing arrays from a random distribution\n",
    "arr1 = np.random.rand(n, k)\n",
    "arr2 = np.random.rand(k, m)\n",
    "\n",
    "l1 = [list(i) for i in list(arr1)]\n",
    "l2 = [list(i) for i in list(arr2)]\n",
    "\n",
    "# print(l1)\n",
    "# print(l2)"
   ]
  },
  {
   "cell_type": "code",
   "execution_count": 3,
   "id": "81eb7d50-6693-4b85-a362-74fff7de452d",
   "metadata": {},
   "outputs": [],
   "source": [
    "# Vanilla Python solution\n",
    "\n",
    "# product is going to be a (n, m) matrix\n",
    "a = [0] * m\n",
    "p = [a for i in range(n)]\n",
    "# p\n",
    "\n",
    "start_time_list = time.perf_counter_ns()\n",
    "\n",
    "for i in range(n):\n",
    "    for j in range(m):\n",
    "        curr_sum = 0\n",
    "        for x in range(k):\n",
    "            curr_sum += l1[i][x] * l2[x][j]\n",
    "        p[i][j] = curr_sum\n",
    "\n",
    "end_time_list = time.perf_counter_ns()\n",
    "\n",
    "# print(p)"
   ]
  },
  {
   "cell_type": "code",
   "execution_count": 4,
   "id": "020b5564-df5b-4420-89ee-6fcbdb36fab3",
   "metadata": {},
   "outputs": [],
   "source": [
    "# Numpy solution\n",
    "\n",
    "# print(\"arr1 = \", arr1)\n",
    "# print(arr1.shape)\n",
    "\n",
    "# print(\"arr2 = \", arr2)\n",
    "# print(arr2.shape)\n",
    "start_time = time.perf_counter_ns()\n",
    "arr1xarr2 = np.matmul(arr1, arr2)\n",
    "end_time = time.perf_counter_ns()\n",
    "# arr1xarr2"
   ]
  },
  {
   "cell_type": "code",
   "execution_count": 5,
   "id": "ec32e98e-00fb-47c4-8025-fe5bdcd69043",
   "metadata": {},
   "outputs": [
    {
     "name": "stdout",
     "output_type": "stream",
     "text": [
      "Time taken by list method: 8179200 ns\n",
      "Time taken by using numpy: 5607400 ns\n"
     ]
    }
   ],
   "source": [
    "print(f'Time taken by list method: {end_time_list - start_time_list} ns')\n",
    "print(f'Time taken by using numpy: {end_time - start_time} ns')"
   ]
  },
  {
   "cell_type": "markdown",
   "id": "c2404826-327b-4532-8d01-39074c18bd38",
   "metadata": {},
   "source": [
    "We can observe a difference in the times taken by different methods. This difference is because Numpy uses __Vectorization__ to perform calculations much faster than they do in Python. <br>\n",
    "The difference might not seem significant because we used small matrix sizes, but vectorization becomes more and more effective as we increase the number of operations that need to performed"
   ]
  },
  {
   "cell_type": "markdown",
   "id": "85a1559b-fa74-4077-aadc-cfd7313c28e9",
   "metadata": {},
   "source": [
    "### Question 3"
   ]
  },
  {
   "cell_type": "markdown",
   "id": "364d95de-2172-4620-a4ff-4f57f98f7904",
   "metadata": {},
   "source": [
    "If we were to use the given method to find the median of an array of length n, <br>\n",
    "the time complexity would be ```O(n**2)```. This is because we will need to loop over the length of the list n//2 times.\n",
    "\n",
    "A better approach would be to sort the list (O(n * log n)) and assess its n//2 th element (O(1)). This would result in a time complexity ```O(n * log n)```."
   ]
  },
  {
   "cell_type": "markdown",
   "id": "b87596cc-cf56-4810-a3a3-0d520dac3fa6",
   "metadata": {},
   "source": [
    "### Question 4"
   ]
  },
  {
   "cell_type": "markdown",
   "id": "745c4c17-d820-41ed-b1e2-93373fda7468",
   "metadata": {},
   "source": [
    "let\n",
    "f(x, y) = (x**2)*y + (y**3)*sin(x)\n",
    "\n",
    "then, <br>\n",
    "df/dx = 2*x*y + (y**3)*cos(x)\n",
    "\n",
    "df/dy = (x** 2) + 3*(y**2)*sin(x)"
   ]
  },
  {
   "cell_type": "markdown",
   "id": "efcf7bc8-e4d9-46cd-8eb4-53fbe8e00daa",
   "metadata": {},
   "source": [
    "### Question 5"
   ]
  },
  {
   "cell_type": "code",
   "execution_count": 23,
   "id": "ac0b4cea-22cb-4c3f-bb12-6a0784b6cc4e",
   "metadata": {
    "scrolled": true
   },
   "outputs": [
    {
     "name": "stderr",
     "output_type": "stream",
     "text": [
      "\n",
      "[notice] A new release of pip is available: 24.1.2 -> 24.2\n",
      "[notice] To update, run: python.exe -m pip install --upgrade pip\n"
     ]
    }
   ],
   "source": [
    "!pip install jax --quiet"
   ]
  },
  {
   "cell_type": "code",
   "execution_count": 16,
   "id": "4f57e288-ca6b-43df-a9ea-6fc8f586ee00",
   "metadata": {},
   "outputs": [],
   "source": [
    "import jax\n",
    "import jax.numpy as jnp\n",
    "from jax import grad\n",
    "import math"
   ]
  },
  {
   "cell_type": "code",
   "execution_count": 17,
   "id": "1a859a5a-7715-4a5a-968b-e5a3f07395be",
   "metadata": {},
   "outputs": [],
   "source": [
    "# given function\n",
    "def f(x, y):\n",
    "    return (x**2)*y + (y**3)*jnp.sin(x)"
   ]
  },
  {
   "cell_type": "code",
   "execution_count": 18,
   "id": "4ffd8a1a-073b-4533-8179-b65cdcd965aa",
   "metadata": {},
   "outputs": [],
   "source": [
    "# computed derivatives as functions\n",
    "def dx(x, y):\n",
    "    return 2*x*y + (y**3) * np.cos(x)\n",
    "\n",
    "def dy(x, y):\n",
    "    return (x**2) + 3 * (y**2)* np.sin(x)"
   ]
  },
  {
   "cell_type": "code",
   "execution_count": 19,
   "id": "73389d99-b405-4d6c-a094-c82b9d682ff7",
   "metadata": {},
   "outputs": [],
   "source": [
    "grad_f = jax.grad(f, argnums=(0, 1))"
   ]
  },
  {
   "cell_type": "code",
   "execution_count": 26,
   "id": "5f67bd8a-0b3d-4e61-a914-52ae7dd7fbd4",
   "metadata": {},
   "outputs": [
    {
     "name": "stdout",
     "output_type": "stream",
     "text": [
      "Gradient with respect to x at x=0.0, y=0.0\n",
      "My implementation: 0.0\n",
      "JAX gradient: 0.0\n",
      "\n",
      "Gradient with respect to y at x=0.0, y=0.0\n",
      "My implementation: 0.0\n",
      "JAX gradient: 0.0\n",
      "\n",
      "Gradient with respect to x at x=1.0, y=1.0\n",
      "My implementation: 2.5403023058681398\n",
      "JAX gradient: 2.540302276611328\n",
      "\n",
      "Gradient with respect to y at x=1.0, y=1.0\n",
      "My implementation: 3.5244129544236893\n",
      "JAX gradient: 3.5244128704071045\n",
      "\n",
      "Gradient with respect to x at x=2.0, y=2.0\n",
      "My implementation: 4.670825307622861\n",
      "JAX gradient: 4.670825004577637\n",
      "\n",
      "Gradient with respect to y at x=2.0, y=2.0\n",
      "My implementation: 14.91156912190818\n",
      "JAX gradient: 14.911568641662598\n",
      "\n",
      "Gradient with respect to x at x=3.0, y=3.0\n",
      "My implementation: -8.729797408212026\n",
      "JAX gradient: -8.72979736328125\n",
      "\n",
      "Gradient with respect to y at x=3.0, y=3.0\n",
      "My implementation: 12.810240217616414\n",
      "JAX gradient: 12.810239791870117\n",
      "\n",
      "Gradient with respect to x at x=4.0, y=4.0\n",
      "My implementation: -9.833191735271164\n",
      "JAX gradient: -9.83319091796875\n",
      "\n",
      "Gradient with respect to y at x=4.0, y=4.0\n",
      "My implementation: -20.32651977478055\n",
      "JAX gradient: -20.326519012451172\n",
      "\n"
     ]
    }
   ],
   "source": [
    "# I have used a range of values but we can also use a set of random values\n",
    "x_val = np.arange(0, 5, 1.0)\n",
    "y_val = np.arange(0, 5, 1.0)\n",
    "\n",
    "for x, y in zip(x_val, y_val):\n",
    "    print(f\"Gradient with respect to x at x={x}, y={y}\")\n",
    "    print(f\"My implementation: {dx(x, y)}\")\n",
    "    print(f\"JAX gradient: {grad_f(x, y)[0]}\")\n",
    "\n",
    "    print()\n",
    "    \n",
    "    print(f\"Gradient with respect to y at x={x}, y={y}\")\n",
    "    print(f\"My implementation: {dy(x, y)}\")\n",
    "    print(f\"JAX gradient: {grad_f(x, y)[1]}\")\n",
    "\n",
    "    print()\n",
    "\n",
    "\n",
    "# f_xy = f(x, y)"
   ]
  },
  {
   "cell_type": "markdown",
   "id": "66230477-03f2-49d2-a60c-33bc8ca120f9",
   "metadata": {},
   "source": [
    "As we can see, the gradients are close enough using both ways"
   ]
  },
  {
   "cell_type": "markdown",
   "id": "1f8fa6d2-2c7d-4c82-af54-c0b745812075",
   "metadata": {},
   "source": [
    "### Question 6"
   ]
  },
  {
   "cell_type": "code",
   "execution_count": 27,
   "id": "038faa6f-be30-42a3-ba75-3068458a6881",
   "metadata": {},
   "outputs": [
    {
     "name": "stderr",
     "output_type": "stream",
     "text": [
      "\n",
      "[notice] A new release of pip is available: 24.1.2 -> 24.2\n",
      "[notice] To update, run: python.exe -m pip install --upgrade pip\n"
     ]
    }
   ],
   "source": [
    "!pip install sympy --quiet"
   ]
  },
  {
   "cell_type": "code",
   "execution_count": 28,
   "id": "a5220f73-5b1d-41c4-a8ff-186e51ca2cf8",
   "metadata": {},
   "outputs": [],
   "source": [
    "import sympy\n",
    "x = sympy.Symbol('x')\n",
    "y = sympy.Symbol('y')\n",
    "\n",
    "f = x**2 * y + y**3 * sympy.sin(x)\n",
    "\n",
    "grad_fx = sympy.diff(f, x)\n",
    "grad_fy = sympy.diff(f, y)"
   ]
  },
  {
   "cell_type": "code",
   "execution_count": 29,
   "id": "de7f83d7-8304-4f85-9e95-d15abcb7e983",
   "metadata": {},
   "outputs": [
    {
     "name": "stdout",
     "output_type": "stream",
     "text": [
      "Gradient with respect to x: 2*x*y + y**3*cos(x)\n",
      "Gradient with respect to y: x**2 + 3*y**2*sin(x)\n"
     ]
    }
   ],
   "source": [
    "print(\"Gradient with respect to x:\", grad_fx)\n",
    "print(\"Gradient with respect to y:\", grad_fy)"
   ]
  },
  {
   "cell_type": "markdown",
   "id": "48a7f462-5b90-4f4b-93b7-f6cfae9f9f10",
   "metadata": {},
   "source": [
    "The expression for gradient obtained using sympy are same as what we calculated"
   ]
  },
  {
   "cell_type": "markdown",
   "id": "1abbc9a0-9da8-47e6-bb8b-d8c5e3c6972b",
   "metadata": {},
   "source": [
    "### Question 7"
   ]
  },
  {
   "cell_type": "code",
   "execution_count": 30,
   "id": "25de367f-db2c-4c2d-a384-eb6fee2136e1",
   "metadata": {},
   "outputs": [],
   "source": [
    "dict = {2022: {'branch1': {1: {'name': 'a', 'marks': {'eng': 12, 'maths': 22}}, 2: {'name': 'b', 'marks': {'eng': 12, 'maths': 22}}}}, \n",
    "       2023: {'branch1': {1: {'name': 'a', 'marks': {'eng': 12, 'maths': 22}}, 2: {'name': 'b', 'marks': {'eng': 12, 'maths': 22}}}},\n",
    "       2024: {'branch1': {1: {'name': 'a', 'marks': {'eng': 12, 'maths': 22}}, 2: {'name': 'b', 'marks': {'eng': 12, 'maths': 22}}}}}"
   ]
  },
  {
   "cell_type": "markdown",
   "id": "28592009-6f5a-4199-8ac1-aedb2fc850e9",
   "metadata": {},
   "source": [
    "### Question 8"
   ]
  },
  {
   "cell_type": "markdown",
   "id": "9f4c4776-7060-46ff-bb33-fde09668fd99",
   "metadata": {},
   "source": [
    "Store the same information using Python classes. We have an overall database which is a list of year objects. Each year contains a list of branches. Each branch contains a list of students. Each student has some properties like name, roll number and has marks in some subjects"
   ]
  },
  {
   "cell_type": "code",
   "execution_count": 31,
   "id": "65b287f8-7afc-4112-92fd-f5811f0d0014",
   "metadata": {},
   "outputs": [],
   "source": [
    "class Student:\n",
    "    def __init__(self, name, roll_no, marks):\n",
    "        self.name = name\n",
    "        self.rno = roll_no\n",
    "        self.math_marks, self.eng_marks = marks\n",
    "\n",
    "\n",
    "class Branch:\n",
    "    def __init__(self, branch_name):\n",
    "        self.branch_name = branch_name\n",
    "        self.students = []\n",
    "\n",
    "    def insert_student(self, student):\n",
    "        self.students.append(student)\n",
    "\n",
    "\n",
    "class Year:\n",
    "    def __init__(self, year):\n",
    "        self.year = year\n",
    "        self.branches = []\n",
    "\n",
    "    def insert_branch(self, branch):\n",
    "        self.branches.append(branch)\n",
    "        \n",
    "\n",
    "class Database:\n",
    "    def __init__(self):\n",
    "        self.years = []\n",
    "\n",
    "    def insert_years(self, list_of_years):\n",
    "        self.years.extend(list_of_years)        "
   ]
  },
  {
   "cell_type": "code",
   "execution_count": 32,
   "id": "bee1084c-1b78-42d3-9725-082d8ef17e53",
   "metadata": {},
   "outputs": [],
   "source": [
    "# Creating the class instances\n",
    "db = Database()\n",
    "\n",
    "year_22 = Year(2022)\n",
    "year_23 = Year(2023)\n",
    "year_24 = Year(2024)\n",
    "\n",
    "branch1 = Branch('branch1')\n",
    "branch2 = Branch('branch2')\n",
    "branch3 = Branch('branch3')\n",
    "\n",
    "# we will be inserting the same student objects into different branches \n",
    "student1 = Student('a', 1, [12, 22])\n",
    "student2 = Student('b', 2, [12, 22])\n",
    "student3 = Student('c', 3, [12, 22])\n",
    "\n",
    "# Inserting student into branch\n",
    "for student in [student1, student2, student3]:\n",
    "    branch1.insert_student(student)\n",
    "    branch2.insert_student(student)\n",
    "    branch3.insert_student(student)\n",
    "\n",
    "# Inserting Branch into year\n",
    "for branch in ['branch1', 'branch2', 'branch3']:\n",
    "    year_22.insert_branch(branch)\n",
    "    year_23.insert_branch(branch)\n",
    "    year_24.insert_branch(branch)\n",
    "\n",
    "# Inserting years into an instance of the Database class\n",
    "db.insert_years([year_22, year_23, year_24])"
   ]
  },
  {
   "cell_type": "code",
   "execution_count": 33,
   "id": "a37f3d78-b2ca-4ebf-a274-84a8048b9b43",
   "metadata": {},
   "outputs": [
    {
     "name": "stdout",
     "output_type": "stream",
     "text": [
      "Help on Database in module __main__ object:\n",
      "\n",
      "class Database(builtins.object)\n",
      " |  Methods defined here:\n",
      " |\n",
      " |  __init__(self)\n",
      " |      Initialize self.  See help(type(self)) for accurate signature.\n",
      " |\n",
      " |  insert_years(self, list_of_years)\n",
      " |\n",
      " |  ----------------------------------------------------------------------\n",
      " |  Data descriptors defined here:\n",
      " |\n",
      " |  __dict__\n",
      " |      dictionary for instance variables\n",
      " |\n",
      " |  __weakref__\n",
      " |      list of weak references to the object\n",
      "\n"
     ]
    }
   ],
   "source": [
    "help(db)"
   ]
  },
  {
   "cell_type": "markdown",
   "id": "47c72dfe-dfbe-4ac7-9985-19c22f0228ed",
   "metadata": {},
   "source": [
    "### Question 9"
   ]
  },
  {
   "cell_type": "code",
   "execution_count": 34,
   "id": "299c4f18-b452-495a-aa32-d873ae8a6e25",
   "metadata": {},
   "outputs": [
    {
     "data": {
      "image/png": "[encoded data removed]",
      "text/plain": [
       "<Figure size 640x480 with 1 Axes>"
      ]
     },
     "metadata": {},
     "output_type": "display_data"
    }
   ],
   "source": [
    "x = np.arange(0.5, 100.01, 0.5)\n",
    "plt.plot(x, x, label = 'y = x')\n",
    "plt.plot(x, x**2, label = 'y == x**2')\n",
    "plt.plot(x, (x**3)/100, label = 'y == x**2')\n",
    "plt.legend()\n",
    "plt.show()"
   ]
  },
  {
   "cell_type": "code",
   "execution_count": 35,
   "id": "fa460867-85a9-4fa1-bb68-40b94b8f7322",
   "metadata": {},
   "outputs": [
    {
     "data": {
      "image/png": "[encoded data removed]",
      "text/plain": [
       "<Figure size 640x480 with 1 Axes>"
      ]
     },
     "metadata": {},
     "output_type": "display_data"
    }
   ],
   "source": [
    "plt.plot(x, np.sin(x), label = 'y = sin(x)')\n",
    "plt.plot(x, np.sin(x)/x, label = 'y = sin(x)/x')\n",
    "plt.legend()\n",
    "plt.show()"
   ]
  },
  {
   "cell_type": "code",
   "execution_count": 36,
   "id": "a7ca31b7-c15f-4022-a73d-148b5cebb751",
   "metadata": {},
   "outputs": [
    {
     "data": {
      "image/png": "[encoded data removed]",
      "text/plain": [
       "<Figure size 640x480 with 1 Axes>"
      ]
     },
     "metadata": {},
     "output_type": "display_data"
    }
   ],
   "source": [
    "plt.plot(x, np.log(x), label = 'y = log(x)')\n",
    "plt.legend()\n",
    "plt.show()"
   ]
  },
  {
   "cell_type": "code",
   "execution_count": 37,
   "id": "aa9bbf77-e513-46ed-ab54-b9e28116f91f",
   "metadata": {},
   "outputs": [
    {
     "data": {
      "image/png": "[encoded data removed]",
      "text/plain": [
       "<Figure size 640x480 with 1 Axes>"
      ]
     },
     "metadata": {},
     "output_type": "display_data"
    }
   ],
   "source": [
    "plt.plot(x, np.exp(x), label = 'y = e**x')\n",
    "plt.legend()\n",
    "plt.show()"
   ]
  },
  {
   "cell_type": "markdown",
   "id": "f281b1f1-404c-4250-b2bd-098ce2fc2a9e",
   "metadata": {},
   "source": [
    "### Question 10"
   ]
  },
  {
   "cell_type": "code",
   "execution_count": 40,
   "id": "7de1243f-b8de-4f81-affb-57a6816591b3",
   "metadata": {},
   "outputs": [
    {
     "data": {
      "text/plain": [
       "array([[1.58426846, 1.75522575, 1.5267639 , 1.06391298, 1.50824216],\n",
       "       [1.23643007, 1.56288456, 1.33783941, 1.15049949, 1.76889981],\n",
       "       [1.21868272, 1.12500763, 1.86083852, 1.59893949, 1.12398789],\n",
       "       [1.16078658, 1.0285682 , 1.03232126, 1.46136172, 1.92373272],\n",
       "       [1.94917733, 1.07915292, 1.63778381, 1.91537933, 1.65156968],\n",
       "       [1.1850879 , 1.34930878, 1.2494163 , 1.47364322, 1.24513562],\n",
       "       [1.04666643, 1.22132937, 1.27052023, 1.54069463, 1.10423681],\n",
       "       [1.26734655, 1.46280061, 1.67532901, 1.00317341, 1.79620471],\n",
       "       [1.04679435, 1.39636516, 1.23712914, 1.26958959, 1.45486466],\n",
       "       [1.18780326, 1.10109536, 1.42120144, 1.51688207, 1.60182353],\n",
       "       [1.00811185, 1.86733648, 1.99083306, 1.75829417, 1.38055897],\n",
       "       [1.27552542, 1.42053464, 1.33883816, 1.04949039, 1.6037119 ],\n",
       "       [1.80085025, 1.54075558, 1.15281974, 1.89161718, 1.52729654],\n",
       "       [1.92572435, 1.13605568, 1.61834186, 1.93024415, 1.72145613],\n",
       "       [1.88531513, 1.24982994, 1.92891443, 1.28059297, 1.55047625],\n",
       "       [1.4330381 , 1.96245734, 1.68920175, 1.27949593, 1.58299539],\n",
       "       [1.49423391, 1.16395416, 1.28963671, 1.10317361, 1.27582898],\n",
       "       [1.19235523, 1.38774578, 1.97979159, 1.63562778, 1.3173063 ],\n",
       "       [1.1312244 , 1.0566301 , 1.68820045, 1.37055449, 1.11723868],\n",
       "       [1.27713063, 1.84929572, 1.32616776, 1.33006788, 1.25698998]])"
      ]
     },
     "execution_count": 40,
     "metadata": {},
     "output_type": "execute_result"
    }
   ],
   "source": [
    "# Using numpy generate a matrix of size 20X5 containing random numbers drawn uniformly from the range of 1 to 2.\n",
    "arr = np.random.uniform(low = 1.0, high = 2.0, size = (20,5))\n",
    "arr"
   ]
  },
  {
   "cell_type": "code",
   "execution_count": 41,
   "id": "8e599a3c-f054-4b93-ac8b-18d10f4461d1",
   "metadata": {},
   "outputs": [
    {
     "data": {
      "text/html": [
       "<div>\n",
       "<style scoped>\n",
       "    .dataframe tbody tr th:only-of-type {\n",
       "        vertical-align: middle;\n",
       "    }\n",
       "\n",
       "    .dataframe tbody tr th {\n",
       "        vertical-align: top;\n",
       "    }\n",
       "\n",
       "    .dataframe thead th {\n",
       "        text-align: right;\n",
       "    }\n",
       "</style>\n",
       "<table border=\"1\" class=\"dataframe\">\n",
       "  <thead>\n",
       "    <tr style=\"text-align: right;\">\n",
       "      <th></th>\n",
       "      <th>a</th>\n",
       "      <th>b</th>\n",
       "      <th>c</th>\n",
       "      <th>d</th>\n",
       "      <th>e</th>\n",
       "    </tr>\n",
       "  </thead>\n",
       "  <tbody>\n",
       "    <tr>\n",
       "      <th>0</th>\n",
       "      <td>1.584268</td>\n",
       "      <td>1.755226</td>\n",
       "      <td>1.526764</td>\n",
       "      <td>1.063913</td>\n",
       "      <td>1.508242</td>\n",
       "    </tr>\n",
       "    <tr>\n",
       "      <th>1</th>\n",
       "      <td>1.236430</td>\n",
       "      <td>1.562885</td>\n",
       "      <td>1.337839</td>\n",
       "      <td>1.150499</td>\n",
       "      <td>1.768900</td>\n",
       "    </tr>\n",
       "    <tr>\n",
       "      <th>2</th>\n",
       "      <td>1.218683</td>\n",
       "      <td>1.125008</td>\n",
       "      <td>1.860839</td>\n",
       "      <td>1.598939</td>\n",
       "      <td>1.123988</td>\n",
       "    </tr>\n",
       "    <tr>\n",
       "      <th>3</th>\n",
       "      <td>1.160787</td>\n",
       "      <td>1.028568</td>\n",
       "      <td>1.032321</td>\n",
       "      <td>1.461362</td>\n",
       "      <td>1.923733</td>\n",
       "    </tr>\n",
       "    <tr>\n",
       "      <th>4</th>\n",
       "      <td>1.949177</td>\n",
       "      <td>1.079153</td>\n",
       "      <td>1.637784</td>\n",
       "      <td>1.915379</td>\n",
       "      <td>1.651570</td>\n",
       "    </tr>\n",
       "    <tr>\n",
       "      <th>5</th>\n",
       "      <td>1.185088</td>\n",
       "      <td>1.349309</td>\n",
       "      <td>1.249416</td>\n",
       "      <td>1.473643</td>\n",
       "      <td>1.245136</td>\n",
       "    </tr>\n",
       "    <tr>\n",
       "      <th>6</th>\n",
       "      <td>1.046666</td>\n",
       "      <td>1.221329</td>\n",
       "      <td>1.270520</td>\n",
       "      <td>1.540695</td>\n",
       "      <td>1.104237</td>\n",
       "    </tr>\n",
       "    <tr>\n",
       "      <th>7</th>\n",
       "      <td>1.267347</td>\n",
       "      <td>1.462801</td>\n",
       "      <td>1.675329</td>\n",
       "      <td>1.003173</td>\n",
       "      <td>1.796205</td>\n",
       "    </tr>\n",
       "    <tr>\n",
       "      <th>8</th>\n",
       "      <td>1.046794</td>\n",
       "      <td>1.396365</td>\n",
       "      <td>1.237129</td>\n",
       "      <td>1.269590</td>\n",
       "      <td>1.454865</td>\n",
       "    </tr>\n",
       "    <tr>\n",
       "      <th>9</th>\n",
       "      <td>1.187803</td>\n",
       "      <td>1.101095</td>\n",
       "      <td>1.421201</td>\n",
       "      <td>1.516882</td>\n",
       "      <td>1.601824</td>\n",
       "    </tr>\n",
       "    <tr>\n",
       "      <th>10</th>\n",
       "      <td>1.008112</td>\n",
       "      <td>1.867336</td>\n",
       "      <td>1.990833</td>\n",
       "      <td>1.758294</td>\n",
       "      <td>1.380559</td>\n",
       "    </tr>\n",
       "    <tr>\n",
       "      <th>11</th>\n",
       "      <td>1.275525</td>\n",
       "      <td>1.420535</td>\n",
       "      <td>1.338838</td>\n",
       "      <td>1.049490</td>\n",
       "      <td>1.603712</td>\n",
       "    </tr>\n",
       "    <tr>\n",
       "      <th>12</th>\n",
       "      <td>1.800850</td>\n",
       "      <td>1.540756</td>\n",
       "      <td>1.152820</td>\n",
       "      <td>1.891617</td>\n",
       "      <td>1.527297</td>\n",
       "    </tr>\n",
       "    <tr>\n",
       "      <th>13</th>\n",
       "      <td>1.925724</td>\n",
       "      <td>1.136056</td>\n",
       "      <td>1.618342</td>\n",
       "      <td>1.930244</td>\n",
       "      <td>1.721456</td>\n",
       "    </tr>\n",
       "    <tr>\n",
       "      <th>14</th>\n",
       "      <td>1.885315</td>\n",
       "      <td>1.249830</td>\n",
       "      <td>1.928914</td>\n",
       "      <td>1.280593</td>\n",
       "      <td>1.550476</td>\n",
       "    </tr>\n",
       "    <tr>\n",
       "      <th>15</th>\n",
       "      <td>1.433038</td>\n",
       "      <td>1.962457</td>\n",
       "      <td>1.689202</td>\n",
       "      <td>1.279496</td>\n",
       "      <td>1.582995</td>\n",
       "    </tr>\n",
       "    <tr>\n",
       "      <th>16</th>\n",
       "      <td>1.494234</td>\n",
       "      <td>1.163954</td>\n",
       "      <td>1.289637</td>\n",
       "      <td>1.103174</td>\n",
       "      <td>1.275829</td>\n",
       "    </tr>\n",
       "    <tr>\n",
       "      <th>17</th>\n",
       "      <td>1.192355</td>\n",
       "      <td>1.387746</td>\n",
       "      <td>1.979792</td>\n",
       "      <td>1.635628</td>\n",
       "      <td>1.317306</td>\n",
       "    </tr>\n",
       "    <tr>\n",
       "      <th>18</th>\n",
       "      <td>1.131224</td>\n",
       "      <td>1.056630</td>\n",
       "      <td>1.688200</td>\n",
       "      <td>1.370554</td>\n",
       "      <td>1.117239</td>\n",
       "    </tr>\n",
       "    <tr>\n",
       "      <th>19</th>\n",
       "      <td>1.277131</td>\n",
       "      <td>1.849296</td>\n",
       "      <td>1.326168</td>\n",
       "      <td>1.330068</td>\n",
       "      <td>1.256990</td>\n",
       "    </tr>\n",
       "  </tbody>\n",
       "</table>\n",
       "</div>"
      ],
      "text/plain": [
       "           a         b         c         d         e\n",
       "0   1.584268  1.755226  1.526764  1.063913  1.508242\n",
       "1   1.236430  1.562885  1.337839  1.150499  1.768900\n",
       "2   1.218683  1.125008  1.860839  1.598939  1.123988\n",
       "3   1.160787  1.028568  1.032321  1.461362  1.923733\n",
       "4   1.949177  1.079153  1.637784  1.915379  1.651570\n",
       "5   1.185088  1.349309  1.249416  1.473643  1.245136\n",
       "6   1.046666  1.221329  1.270520  1.540695  1.104237\n",
       "7   1.267347  1.462801  1.675329  1.003173  1.796205\n",
       "8   1.046794  1.396365  1.237129  1.269590  1.454865\n",
       "9   1.187803  1.101095  1.421201  1.516882  1.601824\n",
       "10  1.008112  1.867336  1.990833  1.758294  1.380559\n",
       "11  1.275525  1.420535  1.338838  1.049490  1.603712\n",
       "12  1.800850  1.540756  1.152820  1.891617  1.527297\n",
       "13  1.925724  1.136056  1.618342  1.930244  1.721456\n",
       "14  1.885315  1.249830  1.928914  1.280593  1.550476\n",
       "15  1.433038  1.962457  1.689202  1.279496  1.582995\n",
       "16  1.494234  1.163954  1.289637  1.103174  1.275829\n",
       "17  1.192355  1.387746  1.979792  1.635628  1.317306\n",
       "18  1.131224  1.056630  1.688200  1.370554  1.117239\n",
       "19  1.277131  1.849296  1.326168  1.330068  1.256990"
      ]
     },
     "execution_count": 41,
     "metadata": {},
     "output_type": "execute_result"
    }
   ],
   "source": [
    "# Using Pandas create a dataframe out of this matrix. Name the columns of the dataframe as “a”, “b”, “c”, “d”, “e”. \n",
    "df = pd.DataFrame(arr)\n",
    "df.columns = ['a', 'b', 'c', 'd', 'e']\n",
    "df"
   ]
  },
  {
   "cell_type": "code",
   "execution_count": 42,
   "id": "5bdd608a-740e-40d2-8c36-f96bc059c55e",
   "metadata": {},
   "outputs": [
    {
     "data": {
      "text/plain": [
       "a    1.365328\n",
       "b    1.385817\n",
       "c    1.512594\n",
       "d    1.431162\n",
       "e    1.475628\n",
       "dtype: float64"
      ]
     },
     "execution_count": 42,
     "metadata": {},
     "output_type": "execute_result"
    }
   ],
   "source": [
    "# Find the column with the highest standard deviation. Find the row with the lowest mean.\n",
    "df.mean()"
   ]
  },
  {
   "cell_type": "markdown",
   "id": "28740efc-e481-410b-9ce8-8babf83672cc",
   "metadata": {},
   "source": [
    "The columns 'c' has the lowest mean out of all the columns"
   ]
  },
  {
   "cell_type": "markdown",
   "id": "e94a723d-174e-4a98-8838-10921de1e57c",
   "metadata": {},
   "source": [
    "### Question 11"
   ]
  },
  {
   "cell_type": "code",
   "execution_count": 43,
   "id": "5275a3b1-6dc1-4c82-ad2b-b44590c8d2b4",
   "metadata": {},
   "outputs": [
    {
     "data": {
      "text/html": [
       "<div>\n",
       "<style scoped>\n",
       "    .dataframe tbody tr th:only-of-type {\n",
       "        vertical-align: middle;\n",
       "    }\n",
       "\n",
       "    .dataframe tbody tr th {\n",
       "        vertical-align: top;\n",
       "    }\n",
       "\n",
       "    .dataframe thead th {\n",
       "        text-align: right;\n",
       "    }\n",
       "</style>\n",
       "<table border=\"1\" class=\"dataframe\">\n",
       "  <thead>\n",
       "    <tr style=\"text-align: right;\">\n",
       "      <th></th>\n",
       "      <th>a</th>\n",
       "      <th>b</th>\n",
       "      <th>c</th>\n",
       "      <th>d</th>\n",
       "      <th>e</th>\n",
       "      <th>f</th>\n",
       "    </tr>\n",
       "  </thead>\n",
       "  <tbody>\n",
       "    <tr>\n",
       "      <th>0</th>\n",
       "      <td>1.584268</td>\n",
       "      <td>1.755226</td>\n",
       "      <td>1.526764</td>\n",
       "      <td>1.063913</td>\n",
       "      <td>1.508242</td>\n",
       "      <td>7.438413</td>\n",
       "    </tr>\n",
       "    <tr>\n",
       "      <th>1</th>\n",
       "      <td>1.236430</td>\n",
       "      <td>1.562885</td>\n",
       "      <td>1.337839</td>\n",
       "      <td>1.150499</td>\n",
       "      <td>1.768900</td>\n",
       "      <td>7.056553</td>\n",
       "    </tr>\n",
       "    <tr>\n",
       "      <th>2</th>\n",
       "      <td>1.218683</td>\n",
       "      <td>1.125008</td>\n",
       "      <td>1.860839</td>\n",
       "      <td>1.598939</td>\n",
       "      <td>1.123988</td>\n",
       "      <td>6.927456</td>\n",
       "    </tr>\n",
       "    <tr>\n",
       "      <th>3</th>\n",
       "      <td>1.160787</td>\n",
       "      <td>1.028568</td>\n",
       "      <td>1.032321</td>\n",
       "      <td>1.461362</td>\n",
       "      <td>1.923733</td>\n",
       "      <td>6.606770</td>\n",
       "    </tr>\n",
       "    <tr>\n",
       "      <th>4</th>\n",
       "      <td>1.949177</td>\n",
       "      <td>1.079153</td>\n",
       "      <td>1.637784</td>\n",
       "      <td>1.915379</td>\n",
       "      <td>1.651570</td>\n",
       "      <td>8.233063</td>\n",
       "    </tr>\n",
       "    <tr>\n",
       "      <th>5</th>\n",
       "      <td>1.185088</td>\n",
       "      <td>1.349309</td>\n",
       "      <td>1.249416</td>\n",
       "      <td>1.473643</td>\n",
       "      <td>1.245136</td>\n",
       "      <td>6.502592</td>\n",
       "    </tr>\n",
       "    <tr>\n",
       "      <th>6</th>\n",
       "      <td>1.046666</td>\n",
       "      <td>1.221329</td>\n",
       "      <td>1.270520</td>\n",
       "      <td>1.540695</td>\n",
       "      <td>1.104237</td>\n",
       "      <td>6.183447</td>\n",
       "    </tr>\n",
       "    <tr>\n",
       "      <th>7</th>\n",
       "      <td>1.267347</td>\n",
       "      <td>1.462801</td>\n",
       "      <td>1.675329</td>\n",
       "      <td>1.003173</td>\n",
       "      <td>1.796205</td>\n",
       "      <td>7.204854</td>\n",
       "    </tr>\n",
       "    <tr>\n",
       "      <th>8</th>\n",
       "      <td>1.046794</td>\n",
       "      <td>1.396365</td>\n",
       "      <td>1.237129</td>\n",
       "      <td>1.269590</td>\n",
       "      <td>1.454865</td>\n",
       "      <td>6.404743</td>\n",
       "    </tr>\n",
       "    <tr>\n",
       "      <th>9</th>\n",
       "      <td>1.187803</td>\n",
       "      <td>1.101095</td>\n",
       "      <td>1.421201</td>\n",
       "      <td>1.516882</td>\n",
       "      <td>1.601824</td>\n",
       "      <td>6.828806</td>\n",
       "    </tr>\n",
       "    <tr>\n",
       "      <th>10</th>\n",
       "      <td>1.008112</td>\n",
       "      <td>1.867336</td>\n",
       "      <td>1.990833</td>\n",
       "      <td>1.758294</td>\n",
       "      <td>1.380559</td>\n",
       "      <td>8.005135</td>\n",
       "    </tr>\n",
       "    <tr>\n",
       "      <th>11</th>\n",
       "      <td>1.275525</td>\n",
       "      <td>1.420535</td>\n",
       "      <td>1.338838</td>\n",
       "      <td>1.049490</td>\n",
       "      <td>1.603712</td>\n",
       "      <td>6.688101</td>\n",
       "    </tr>\n",
       "    <tr>\n",
       "      <th>12</th>\n",
       "      <td>1.800850</td>\n",
       "      <td>1.540756</td>\n",
       "      <td>1.152820</td>\n",
       "      <td>1.891617</td>\n",
       "      <td>1.527297</td>\n",
       "      <td>7.913339</td>\n",
       "    </tr>\n",
       "    <tr>\n",
       "      <th>13</th>\n",
       "      <td>1.925724</td>\n",
       "      <td>1.136056</td>\n",
       "      <td>1.618342</td>\n",
       "      <td>1.930244</td>\n",
       "      <td>1.721456</td>\n",
       "      <td>8.331822</td>\n",
       "    </tr>\n",
       "    <tr>\n",
       "      <th>14</th>\n",
       "      <td>1.885315</td>\n",
       "      <td>1.249830</td>\n",
       "      <td>1.928914</td>\n",
       "      <td>1.280593</td>\n",
       "      <td>1.550476</td>\n",
       "      <td>7.895129</td>\n",
       "    </tr>\n",
       "    <tr>\n",
       "      <th>15</th>\n",
       "      <td>1.433038</td>\n",
       "      <td>1.962457</td>\n",
       "      <td>1.689202</td>\n",
       "      <td>1.279496</td>\n",
       "      <td>1.582995</td>\n",
       "      <td>7.947189</td>\n",
       "    </tr>\n",
       "    <tr>\n",
       "      <th>16</th>\n",
       "      <td>1.494234</td>\n",
       "      <td>1.163954</td>\n",
       "      <td>1.289637</td>\n",
       "      <td>1.103174</td>\n",
       "      <td>1.275829</td>\n",
       "      <td>6.326827</td>\n",
       "    </tr>\n",
       "    <tr>\n",
       "      <th>17</th>\n",
       "      <td>1.192355</td>\n",
       "      <td>1.387746</td>\n",
       "      <td>1.979792</td>\n",
       "      <td>1.635628</td>\n",
       "      <td>1.317306</td>\n",
       "      <td>7.512827</td>\n",
       "    </tr>\n",
       "    <tr>\n",
       "      <th>18</th>\n",
       "      <td>1.131224</td>\n",
       "      <td>1.056630</td>\n",
       "      <td>1.688200</td>\n",
       "      <td>1.370554</td>\n",
       "      <td>1.117239</td>\n",
       "      <td>6.363848</td>\n",
       "    </tr>\n",
       "    <tr>\n",
       "      <th>19</th>\n",
       "      <td>1.277131</td>\n",
       "      <td>1.849296</td>\n",
       "      <td>1.326168</td>\n",
       "      <td>1.330068</td>\n",
       "      <td>1.256990</td>\n",
       "      <td>7.039652</td>\n",
       "    </tr>\n",
       "  </tbody>\n",
       "</table>\n",
       "</div>"
      ],
      "text/plain": [
       "           a         b         c         d         e         f\n",
       "0   1.584268  1.755226  1.526764  1.063913  1.508242  7.438413\n",
       "1   1.236430  1.562885  1.337839  1.150499  1.768900  7.056553\n",
       "2   1.218683  1.125008  1.860839  1.598939  1.123988  6.927456\n",
       "3   1.160787  1.028568  1.032321  1.461362  1.923733  6.606770\n",
       "4   1.949177  1.079153  1.637784  1.915379  1.651570  8.233063\n",
       "5   1.185088  1.349309  1.249416  1.473643  1.245136  6.502592\n",
       "6   1.046666  1.221329  1.270520  1.540695  1.104237  6.183447\n",
       "7   1.267347  1.462801  1.675329  1.003173  1.796205  7.204854\n",
       "8   1.046794  1.396365  1.237129  1.269590  1.454865  6.404743\n",
       "9   1.187803  1.101095  1.421201  1.516882  1.601824  6.828806\n",
       "10  1.008112  1.867336  1.990833  1.758294  1.380559  8.005135\n",
       "11  1.275525  1.420535  1.338838  1.049490  1.603712  6.688101\n",
       "12  1.800850  1.540756  1.152820  1.891617  1.527297  7.913339\n",
       "13  1.925724  1.136056  1.618342  1.930244  1.721456  8.331822\n",
       "14  1.885315  1.249830  1.928914  1.280593  1.550476  7.895129\n",
       "15  1.433038  1.962457  1.689202  1.279496  1.582995  7.947189\n",
       "16  1.494234  1.163954  1.289637  1.103174  1.275829  6.326827\n",
       "17  1.192355  1.387746  1.979792  1.635628  1.317306  7.512827\n",
       "18  1.131224  1.056630  1.688200  1.370554  1.117239  6.363848\n",
       "19  1.277131  1.849296  1.326168  1.330068  1.256990  7.039652"
      ]
     },
     "execution_count": 43,
     "metadata": {},
     "output_type": "execute_result"
    }
   ],
   "source": [
    "# Add a new column to the dataframe called “f” which is the sum of the columns “a”, “b”, “c”, “d”, “e”. \n",
    "df['f'] = np.sum(arr, axis = 1)\n",
    "df"
   ]
  },
  {
   "cell_type": "code",
   "execution_count": 44,
   "id": "653eb290-7da4-45d0-ad06-834c43092634",
   "metadata": {},
   "outputs": [
    {
     "data": {
      "text/html": [
       "<div>\n",
       "<style scoped>\n",
       "    .dataframe tbody tr th:only-of-type {\n",
       "        vertical-align: middle;\n",
       "    }\n",
       "\n",
       "    .dataframe tbody tr th {\n",
       "        vertical-align: top;\n",
       "    }\n",
       "\n",
       "    .dataframe thead th {\n",
       "        text-align: right;\n",
       "    }\n",
       "</style>\n",
       "<table border=\"1\" class=\"dataframe\">\n",
       "  <thead>\n",
       "    <tr style=\"text-align: right;\">\n",
       "      <th></th>\n",
       "      <th>a</th>\n",
       "      <th>b</th>\n",
       "      <th>c</th>\n",
       "      <th>d</th>\n",
       "      <th>e</th>\n",
       "      <th>f</th>\n",
       "      <th>g</th>\n",
       "    </tr>\n",
       "  </thead>\n",
       "  <tbody>\n",
       "    <tr>\n",
       "      <th>0</th>\n",
       "      <td>1.584268</td>\n",
       "      <td>1.755226</td>\n",
       "      <td>1.526764</td>\n",
       "      <td>1.063913</td>\n",
       "      <td>1.508242</td>\n",
       "      <td>7.438413</td>\n",
       "      <td>LT8</td>\n",
       "    </tr>\n",
       "    <tr>\n",
       "      <th>1</th>\n",
       "      <td>1.236430</td>\n",
       "      <td>1.562885</td>\n",
       "      <td>1.337839</td>\n",
       "      <td>1.150499</td>\n",
       "      <td>1.768900</td>\n",
       "      <td>7.056553</td>\n",
       "      <td>LT8</td>\n",
       "    </tr>\n",
       "    <tr>\n",
       "      <th>2</th>\n",
       "      <td>1.218683</td>\n",
       "      <td>1.125008</td>\n",
       "      <td>1.860839</td>\n",
       "      <td>1.598939</td>\n",
       "      <td>1.123988</td>\n",
       "      <td>6.927456</td>\n",
       "      <td>LT8</td>\n",
       "    </tr>\n",
       "    <tr>\n",
       "      <th>3</th>\n",
       "      <td>1.160787</td>\n",
       "      <td>1.028568</td>\n",
       "      <td>1.032321</td>\n",
       "      <td>1.461362</td>\n",
       "      <td>1.923733</td>\n",
       "      <td>6.606770</td>\n",
       "      <td>LT8</td>\n",
       "    </tr>\n",
       "    <tr>\n",
       "      <th>4</th>\n",
       "      <td>1.949177</td>\n",
       "      <td>1.079153</td>\n",
       "      <td>1.637784</td>\n",
       "      <td>1.915379</td>\n",
       "      <td>1.651570</td>\n",
       "      <td>8.233063</td>\n",
       "      <td>GT8</td>\n",
       "    </tr>\n",
       "    <tr>\n",
       "      <th>5</th>\n",
       "      <td>1.185088</td>\n",
       "      <td>1.349309</td>\n",
       "      <td>1.249416</td>\n",
       "      <td>1.473643</td>\n",
       "      <td>1.245136</td>\n",
       "      <td>6.502592</td>\n",
       "      <td>LT8</td>\n",
       "    </tr>\n",
       "    <tr>\n",
       "      <th>6</th>\n",
       "      <td>1.046666</td>\n",
       "      <td>1.221329</td>\n",
       "      <td>1.270520</td>\n",
       "      <td>1.540695</td>\n",
       "      <td>1.104237</td>\n",
       "      <td>6.183447</td>\n",
       "      <td>LT8</td>\n",
       "    </tr>\n",
       "    <tr>\n",
       "      <th>7</th>\n",
       "      <td>1.267347</td>\n",
       "      <td>1.462801</td>\n",
       "      <td>1.675329</td>\n",
       "      <td>1.003173</td>\n",
       "      <td>1.796205</td>\n",
       "      <td>7.204854</td>\n",
       "      <td>LT8</td>\n",
       "    </tr>\n",
       "    <tr>\n",
       "      <th>8</th>\n",
       "      <td>1.046794</td>\n",
       "      <td>1.396365</td>\n",
       "      <td>1.237129</td>\n",
       "      <td>1.269590</td>\n",
       "      <td>1.454865</td>\n",
       "      <td>6.404743</td>\n",
       "      <td>LT8</td>\n",
       "    </tr>\n",
       "    <tr>\n",
       "      <th>9</th>\n",
       "      <td>1.187803</td>\n",
       "      <td>1.101095</td>\n",
       "      <td>1.421201</td>\n",
       "      <td>1.516882</td>\n",
       "      <td>1.601824</td>\n",
       "      <td>6.828806</td>\n",
       "      <td>LT8</td>\n",
       "    </tr>\n",
       "    <tr>\n",
       "      <th>10</th>\n",
       "      <td>1.008112</td>\n",
       "      <td>1.867336</td>\n",
       "      <td>1.990833</td>\n",
       "      <td>1.758294</td>\n",
       "      <td>1.380559</td>\n",
       "      <td>8.005135</td>\n",
       "      <td>GT8</td>\n",
       "    </tr>\n",
       "    <tr>\n",
       "      <th>11</th>\n",
       "      <td>1.275525</td>\n",
       "      <td>1.420535</td>\n",
       "      <td>1.338838</td>\n",
       "      <td>1.049490</td>\n",
       "      <td>1.603712</td>\n",
       "      <td>6.688101</td>\n",
       "      <td>LT8</td>\n",
       "    </tr>\n",
       "    <tr>\n",
       "      <th>12</th>\n",
       "      <td>1.800850</td>\n",
       "      <td>1.540756</td>\n",
       "      <td>1.152820</td>\n",
       "      <td>1.891617</td>\n",
       "      <td>1.527297</td>\n",
       "      <td>7.913339</td>\n",
       "      <td>LT8</td>\n",
       "    </tr>\n",
       "    <tr>\n",
       "      <th>13</th>\n",
       "      <td>1.925724</td>\n",
       "      <td>1.136056</td>\n",
       "      <td>1.618342</td>\n",
       "      <td>1.930244</td>\n",
       "      <td>1.721456</td>\n",
       "      <td>8.331822</td>\n",
       "      <td>GT8</td>\n",
       "    </tr>\n",
       "    <tr>\n",
       "      <th>14</th>\n",
       "      <td>1.885315</td>\n",
       "      <td>1.249830</td>\n",
       "      <td>1.928914</td>\n",
       "      <td>1.280593</td>\n",
       "      <td>1.550476</td>\n",
       "      <td>7.895129</td>\n",
       "      <td>LT8</td>\n",
       "    </tr>\n",
       "    <tr>\n",
       "      <th>15</th>\n",
       "      <td>1.433038</td>\n",
       "      <td>1.962457</td>\n",
       "      <td>1.689202</td>\n",
       "      <td>1.279496</td>\n",
       "      <td>1.582995</td>\n",
       "      <td>7.947189</td>\n",
       "      <td>LT8</td>\n",
       "    </tr>\n",
       "    <tr>\n",
       "      <th>16</th>\n",
       "      <td>1.494234</td>\n",
       "      <td>1.163954</td>\n",
       "      <td>1.289637</td>\n",
       "      <td>1.103174</td>\n",
       "      <td>1.275829</td>\n",
       "      <td>6.326827</td>\n",
       "      <td>LT8</td>\n",
       "    </tr>\n",
       "    <tr>\n",
       "      <th>17</th>\n",
       "      <td>1.192355</td>\n",
       "      <td>1.387746</td>\n",
       "      <td>1.979792</td>\n",
       "      <td>1.635628</td>\n",
       "      <td>1.317306</td>\n",
       "      <td>7.512827</td>\n",
       "      <td>LT8</td>\n",
       "    </tr>\n",
       "    <tr>\n",
       "      <th>18</th>\n",
       "      <td>1.131224</td>\n",
       "      <td>1.056630</td>\n",
       "      <td>1.688200</td>\n",
       "      <td>1.370554</td>\n",
       "      <td>1.117239</td>\n",
       "      <td>6.363848</td>\n",
       "      <td>LT8</td>\n",
       "    </tr>\n",
       "    <tr>\n",
       "      <th>19</th>\n",
       "      <td>1.277131</td>\n",
       "      <td>1.849296</td>\n",
       "      <td>1.326168</td>\n",
       "      <td>1.330068</td>\n",
       "      <td>1.256990</td>\n",
       "      <td>7.039652</td>\n",
       "      <td>LT8</td>\n",
       "    </tr>\n",
       "  </tbody>\n",
       "</table>\n",
       "</div>"
      ],
      "text/plain": [
       "           a         b         c         d         e         f    g\n",
       "0   1.584268  1.755226  1.526764  1.063913  1.508242  7.438413  LT8\n",
       "1   1.236430  1.562885  1.337839  1.150499  1.768900  7.056553  LT8\n",
       "2   1.218683  1.125008  1.860839  1.598939  1.123988  6.927456  LT8\n",
       "3   1.160787  1.028568  1.032321  1.461362  1.923733  6.606770  LT8\n",
       "4   1.949177  1.079153  1.637784  1.915379  1.651570  8.233063  GT8\n",
       "5   1.185088  1.349309  1.249416  1.473643  1.245136  6.502592  LT8\n",
       "6   1.046666  1.221329  1.270520  1.540695  1.104237  6.183447  LT8\n",
       "7   1.267347  1.462801  1.675329  1.003173  1.796205  7.204854  LT8\n",
       "8   1.046794  1.396365  1.237129  1.269590  1.454865  6.404743  LT8\n",
       "9   1.187803  1.101095  1.421201  1.516882  1.601824  6.828806  LT8\n",
       "10  1.008112  1.867336  1.990833  1.758294  1.380559  8.005135  GT8\n",
       "11  1.275525  1.420535  1.338838  1.049490  1.603712  6.688101  LT8\n",
       "12  1.800850  1.540756  1.152820  1.891617  1.527297  7.913339  LT8\n",
       "13  1.925724  1.136056  1.618342  1.930244  1.721456  8.331822  GT8\n",
       "14  1.885315  1.249830  1.928914  1.280593  1.550476  7.895129  LT8\n",
       "15  1.433038  1.962457  1.689202  1.279496  1.582995  7.947189  LT8\n",
       "16  1.494234  1.163954  1.289637  1.103174  1.275829  6.326827  LT8\n",
       "17  1.192355  1.387746  1.979792  1.635628  1.317306  7.512827  LT8\n",
       "18  1.131224  1.056630  1.688200  1.370554  1.117239  6.363848  LT8\n",
       "19  1.277131  1.849296  1.326168  1.330068  1.256990  7.039652  LT8"
      ]
     },
     "execution_count": 44,
     "metadata": {},
     "output_type": "execute_result"
    }
   ],
   "source": [
    "# Create another column called “g”. The value in the column “g” should be “LT8” if the value in the column “f” is less than 8 and “GT8” otherwise. \n",
    "comp_array = np.array(df['f'] < 8).astype('int')\n",
    "comp_array = list(comp_array)\n",
    "for i in range(len(comp_array)):\n",
    "    if comp_array[i] == 1:\n",
    "        comp_array[i] = 'LT8'\n",
    "    else:\n",
    "        comp_array[i] = 'GT8'\n",
    "comp_array\n",
    "\n",
    "df['g'] = comp_array\n",
    "df"
   ]
  },
  {
   "cell_type": "code",
   "execution_count": 45,
   "id": "7ea2dcbe-86af-46a9-a0a7-c8ab521443fd",
   "metadata": {},
   "outputs": [
    {
     "name": "stdout",
     "output_type": "stream",
     "text": [
      "The number of rows in df that have value LT8 in the column g is 17\n"
     ]
    }
   ],
   "source": [
    "# Find the number of rows in the dataframe where the value in the column “g” is “LT8”. \n",
    "print(f'The number of rows in df that have value LT8 in the column g is {np.sum(df['g'] == 'LT8')}')"
   ]
  },
  {
   "cell_type": "code",
   "execution_count": 46,
   "id": "5bb4e0c3-1080-40a6-938c-3802601a5174",
   "metadata": {},
   "outputs": [
    {
     "name": "stdout",
     "output_type": "stream",
     "text": [
      "The standard deviation for LT8 case is:\n",
      "0.56599122701749\n",
      "The standard deviation for GT8 case is:\n",
      "0.13680058013643556\n"
     ]
    }
   ],
   "source": [
    "# Find the standard deviation of the column “f” for the rows where the value in the column “g” is “LT8” and “GT8” respectively.\n",
    "\n",
    "# LT8\n",
    "print('The standard deviation for LT8 case is:')\n",
    "print(np.std(df['f'][df['g'] == 'LT8']))\n",
    "\n",
    "# GT8\n",
    "print('The standard deviation for GT8 case is:')\n",
    "print(np.std(df['f'][df['g'] == 'GT8']))"
   ]
  },
  {
   "cell_type": "markdown",
   "id": "d129e2b7-39fd-44e8-ba3e-85959ef6025b",
   "metadata": {},
   "source": [
    "### Question 12"
   ]
  },
  {
   "cell_type": "code",
   "execution_count": 47,
   "id": "0ffd1727-90e1-4e38-9bb1-972c8e066035",
   "metadata": {},
   "outputs": [
    {
     "name": "stdout",
     "output_type": "stream",
     "text": [
      "(2, 4)\n",
      "[[22 24 26 30]\n",
      " [22 24 26 30]]\n"
     ]
    }
   ],
   "source": [
    "a = 2\n",
    "b = np.array([[11, 12, 13, 15], [11, 12, 13, 15]])\n",
    "print(b.shape)\n",
    "\n",
    "print(a * b)"
   ]
  },
  {
   "cell_type": "code",
   "execution_count": 48,
   "id": "ffc42ea9-dde4-4776-834f-e2d605562e36",
   "metadata": {},
   "outputs": [
    {
     "name": "stdout",
     "output_type": "stream",
     "text": [
      "[[2 2 2 2]\n",
      " [2 2 2 2]]\n"
     ]
    }
   ],
   "source": [
    "a_broadcasted = np.array([[2, 2, 2, 2], [2, 2, 2, 2]])\n",
    "print(a_broadcasted)"
   ]
  },
  {
   "cell_type": "markdown",
   "id": "bfd2002b-0d83-4ec5-9858-44ac3cd4b3b8",
   "metadata": {},
   "source": [
    "As we saw, we were able to multiply a scalar to a vector, this is made possible by using numpy broadcasting. <br>\n",
    "If possible, NumPy broadcasts the smaller vector (in our case the scaler) to the shape of b (a becomes a_broadcasted), <br>\n",
    "and then these 2 vectors are used to perform operations (in our case, element-wise multiplication)."
   ]
  },
  {
   "cell_type": "markdown",
   "id": "811afe96-a906-4e06-9ce7-0512a88b55b1",
   "metadata": {},
   "source": [
    "### Question 13"
   ]
  },
  {
   "cell_type": "code",
   "execution_count": 50,
   "id": "2b7b9fc8-db4b-4f4d-8443-e79b570ebc1a",
   "metadata": {},
   "outputs": [],
   "source": [
    "# I have considered that the we won't be specifying an axis, which means that we will flatten the array and then return index of the \n",
    "# minimum element in the flattened array \n",
    "def arg_minimize(arr):\n",
    "    arr_flatten = list(arr.flatten())\n",
    "    min_elem = float('inf')\n",
    "    min_index = 0\n",
    "    for i in range(len(arr_flatten)):\n",
    "        if arr_flatten[i] < min_elem: \n",
    "            min_index = i\n",
    "            min_elem = arr_flatten[i]\n",
    "    return min_index"
   ]
  },
  {
   "cell_type": "code",
   "execution_count": 51,
   "id": "b152279b-10c5-449c-827f-4a3b7b19c953",
   "metadata": {},
   "outputs": [
    {
     "name": "stdout",
     "output_type": "stream",
     "text": [
      "My function: 4\n",
      "np.argmin: 4\n"
     ]
    }
   ],
   "source": [
    "arr = np.array([[11, 12, 13, 15], [1, 4, 8, 12]])\n",
    "print(f'My function: {arg_minimize(arr)}')\n",
    "print(f'np.argmin: {np.argmin(arr)}')"
   ]
  }
 ],
 "metadata": {
  "kernelspec": {
   "display_name": "Python 3 (ipykernel)",
   "language": "python",
   "name": "python3"
  },
  "language_info": {
   "codemirror_mode": {
    "name": "ipython",
    "version": 3
   },
   "file_extension": ".py",
   "mimetype": "text/x-python",
   "name": "python",
   "nbconvert_exporter": "python",
   "pygments_lexer": "ipython3",
   "version": "3.12.3"
  }
 },
 "nbformat": 4,
 "nbformat_minor": 5
}
